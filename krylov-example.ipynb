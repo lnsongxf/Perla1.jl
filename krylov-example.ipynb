{
 "cells": [
  {
   "cell_type": "code",
   "execution_count": null,
   "metadata": {},
   "outputs": [],
   "source": [
    "using DifferentialEquations, Plots, Test, BenchmarkTools, LinearAlgebra, SparseArrays, DiffEqOperators\n",
    "using Perla1"
   ]
  },
  {
   "cell_type": "code",
   "execution_count": null,
   "metadata": {},
   "outputs": [],
   "source": [
    "# simple duopoly\n",
    "N = 2\n",
    "T = 100.0\n",
    "μ = 0.0\n",
    "θ = 0.06 # baseline parameter from Perla16 (Appendix E.4)\n",
    "θ_d = 0.0 # assume constant θ_d (for Krylov methods)\n",
    "# θ_d = 0.21 # baseline parameter from Perla16 (Appendix E.4)\n",
    "f0 = 0.0\n",
    "\n",
    "# define generator\n",
    "Q_a = get_Q(N, μ, θ, θ_d)\n",
    "Q(a) = Q_a(a)\n",
    "\n",
    "# solve the corresponding ODE\n",
    "f_0 = [1.0; 0.0; 0.0]\n",
    "sol_count = solve_transition_dynamics(Q, f_0, T)\n",
    "\n",
    "# convert to the counting solution\n",
    "f0_count(a) = sol_count(a)[1]\n",
    "f1_count(a) = sol_count(a)[2]\n",
    "f2_count(a) = sol_count(a)[3]\n",
    "\n",
    "# plot\n",
    "plot(sol_count,linewidth=5,\n",
    "    title=\"Solution (using count transition)\",\n",
    "    xaxis=\"t\",yaxis=\"f(t)\",label=[\"f0\" \"f1\" \"f2\"])"
   ]
  },
  {
   "cell_type": "code",
   "execution_count": null,
   "metadata": {},
   "outputs": [],
   "source": [
    "f_count(a) = dot(0:N, sol_count(a)) # average product awareness\n",
    "plot(0:0.01:T, f_count,linewidth=5,\n",
    "    title=\"Average product awareness (using count transition)\",\n",
    "    xaxis=\"t\",yaxis=\"f(t)\",label=[\"f_average\"],linecolor=\"purple\")"
   ]
  },
  {
   "cell_type": "markdown",
   "metadata": {},
   "source": [
    "# Using Krylov method"
   ]
  },
  {
   "cell_type": "code",
   "execution_count": null,
   "metadata": {},
   "outputs": [],
   "source": [
    "# some setups\n",
    "using ExponentialUtilities\n",
    "\n",
    "function get_Q_base(N, μ, θ)\n",
    "    # construct (N+1) by (N+1) base matrix such that\n",
    "    # the last N rows of base_matrix correspond to the last N rows of Q(a) \n",
    "    # based on (A.3) in appendix\n",
    "    dl = fill(μ, N)\n",
    "    d = collect(-μ.-(N:-1:0).*(θ/N))\n",
    "    du = collect((N:-1:1).*(θ/N))\n",
    "    return dl, d, du, SparseArrays.spdiagm(-1 => dl, 0 => d, 1 => du)\n",
    "end\n",
    "\n",
    "struct AwarenessModel\n",
    "    dl # lower diagonal elements of Q\n",
    "    d # diagonal elements of Q\n",
    "    du # upper diagonal elements of Q\n",
    "    Q_base # transition matrix, time invariant\n",
    "    function AwarenessModel(N, μ, θ)\n",
    "        dl, d, du, Q_base = get_Q_base(N, μ, θ) \n",
    "        new(dl, d, du, Q_base')\n",
    "    end\n",
    "end"
   ]
  },
  {
   "cell_type": "code",
   "execution_count": null,
   "metadata": {},
   "outputs": [],
   "source": [
    "# overload size, ishermitian, mul! from LinearAlgebra to use expv\n",
    "LinearAlgebra.size(Q::AwarenessModel, i::Int64) = LinearAlgebra.size(Q.Q_base, i)\n",
    "LinearAlgebra.ishermitian(Q::AwarenessModel) = LinearAlgebra.ishermitian(Q.Q_base)\n",
    "LinearAlgebra.mul!(y, Q::AwarenessModel, b) = LinearAlgebra.mul!(y, Q.Q_base, b)\n",
    "\n",
    "function LinearAlgebra.mul!(y, Q::AwarenessModel, b)\n",
    "    # note that the operator is transposed\n",
    "    N = length(y)-1\n",
    "    y[1] = -(θ + θ_d*(1-f0))*b[1]+Q.dl[1]*b[2]\n",
    "    for i in 2:N\n",
    "        y[i] = Q.du[i]*b[i-1] + Q.d[i]*b[i] + Q.dl[i]*b[i+1]\n",
    "    end\n",
    "    y[2] = (θ + θ_d*(1-f0))*b[1]+Q.d[2]*b[2]+Q.dl[2]*b[3]\n",
    "    y[end] = Q.du[end]*b[N] + Q.d[end]*b[N+1]\n",
    "end"
   ]
  },
  {
   "cell_type": "code",
   "execution_count": null,
   "metadata": {
    "scrolled": true
   },
   "outputs": [],
   "source": [
    "# generate an AwarenessModel\n",
    "model = AwarenessModel(N, μ, θ)\n",
    "\n",
    "# solve krylov\n",
    "sol_count_krylov(a) = expv(a,model,f_0;opnorm=(Q,p)->1.0)\n",
    "f0_count_krylov(a) = sol_count_krylov(a)[1]\n",
    "f1_count_krylov(a) = sol_count_krylov(a)[2]\n",
    "f2_count_krylov(a) = sol_count_krylov(a)[3]\n",
    "f_count_krylov(a) = dot(0:N, sol_count(a)) # average product awareness\n",
    "\n",
    "# plot\n",
    "plot(0:0.01:T, [f0_count_krylov, f1_count_krylov, f2_count_krylov],linewidth=5,\n",
    "    title=\"Solution (using count transition, Krylov method(expv))\",\n",
    "     xaxis=\"t\",yaxis=\"f(t)\",label=[\"f0\" \"f1\" \"f2\"])"
   ]
  },
  {
   "cell_type": "code",
   "execution_count": null,
   "metadata": {},
   "outputs": [],
   "source": [
    "# check if they yield identical results\n",
    "@test f0_count.(0:0.1:T) ≈ f0_count_krylov.(0:0.1:T) atol=1e-4\n",
    "@test f1_count.(0:0.1:T) ≈ f1_count_krylov.(0:0.1:T) atol=1e-4\n",
    "@test f2_count.(0:0.1:T) ≈ f2_count_krylov.(0:0.1:T) atol=1e-4\n",
    "@test f_count.(0:0.1:T) ≈ f_count_krylov.(0:0.1:T) atol=1e-4"
   ]
  }
 ],
 "metadata": {
  "kernelspec": {
   "display_name": "Julia 1.0.0",
   "language": "julia",
   "name": "julia-1.0"
  },
  "language_info": {
   "file_extension": ".jl",
   "mimetype": "application/julia",
   "name": "julia",
   "version": "1.0.0"
  }
 },
 "nbformat": 4,
 "nbformat_minor": 2
}

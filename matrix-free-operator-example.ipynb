{
 "cells": [
  {
   "cell_type": "code",
   "execution_count": 1,
   "metadata": {},
   "outputs": [
    {
     "data": {
      "text/plain": [
       "3-element Array{Float64,1}:\n",
       " 1.0\n",
       " 0.0\n",
       " 0.0"
      ]
     },
     "execution_count": 1,
     "metadata": {},
     "output_type": "execute_result"
    }
   ],
   "source": [
    "using DiffEqBase, DiffEqOperators, OrdinaryDiffEq, LinearAlgebra\n",
    "\n",
    "# TransitionModel defn\n",
    "struct TransitionModel\n",
    "    A # transition matrix\n",
    "    args\n",
    "    t # current time\n",
    "end\n",
    "\n",
    "function (M::TransitionModel)(du, u, p, t)\n",
    "    LinearAlgebra.mul!(du, M, u)\n",
    "end\n",
    "\n",
    "# overload methods for matrix analogy\n",
    "LinearAlgebra.size(m::TransitionModel, i::Int64) = size(m.A, i)\n",
    "LinearAlgebra.ishermitian(m::TransitionModel) = ishermitian(m.A)\n",
    "transition_dynamics!(y, m::TransitionModel, b) = mul!(y, m.A, b)\n",
    "function transition_dynamics!(Y, m::TransitionModel, B::AbstractMatrix{T}) where {T} \n",
    "    N = size(A,1)\n",
    "    for j in 1:(N+1)\n",
    "        Y[:,j] = mul!(similar(B[:,j]), m, B[:,j])\n",
    "    end    \n",
    "end\n",
    "LinearAlgebra.opnorm(m::TransitionModel, p) = opnorm(m.A, p)\n",
    "\n",
    "# solution setup\n",
    "T = 1\n",
    "ts = 0:0.1:T\n",
    "f_0 = [1.0; 0.0; 0.0]"
   ]
  },
  {
   "cell_type": "markdown",
   "metadata": {},
   "source": [
    "### Models with time-independent operators"
   ]
  },
  {
   "cell_type": "code",
   "execution_count": 2,
   "metadata": {},
   "outputs": [
    {
     "data": {
      "text/plain": [
       "retcode: Success\n",
       "Interpolation: 3rd order Hermite\n",
       "t: 11-element Array{Float64,1}:\n",
       " 0.0                \n",
       " 0.1                \n",
       " 0.2                \n",
       " 0.30000000000000004\n",
       " 0.4                \n",
       " 0.5                \n",
       " 0.6                \n",
       " 0.7                \n",
       " 0.7999999999999999 \n",
       " 0.8999999999999999 \n",
       " 1.0                \n",
       "u: 11-element Array{Array{Float64,1},1}:\n",
       " [1.0, 0.0, 0.0]                   \n",
       " [0.950635, -0.0487397, 0.00124987]\n",
       " [0.902582, -0.0949188, 0.00499792]\n",
       " [0.855901, -0.138479, 0.0112395]  \n",
       " [0.810649, -0.179367, 0.0199667]  \n",
       " [0.766884, -0.217531, 0.0311687]  \n",
       " [0.724661, -0.252924, 0.0448315]  \n",
       " [0.684031, -0.2855, 0.060938]     \n",
       " [0.645046, -0.31522, 0.0794681]   \n",
       " [0.607755, -0.342046, 0.100399]   \n",
       " [0.572203, -0.365945, 0.123703]   "
      ]
     },
     "execution_count": 2,
     "metadata": {},
     "output_type": "execute_result"
    }
   ],
   "source": [
    "# model specs\n",
    "A = [[-0.5 0.25 0.25]; [-0.5 0.0 0.5]; [0.0 -0.5 0.5]]\n",
    "model = TransitionModel(A, nothing, 0.0)\n",
    "\n",
    "# solve\n",
    "prob = ODEProblem(MatrixFreeOperator((du,u)->transition_dynamics!(du, model, u)),f_0,(0.0,T))\n",
    "solve(prob, LawsonEuler(krylov=true, m=5), dt=0.1)"
   ]
  },
  {
   "cell_type": "markdown",
   "metadata": {},
   "source": [
    "### Models with time-dependent operators \n",
    "(TODO: need more methods to be overridden. See https://github.com/JuliaDiffEq/DiffEqOperators.jl/pull/81)"
   ]
  },
  {
   "cell_type": "code",
   "execution_count": 3,
   "metadata": {},
   "outputs": [],
   "source": [
    "# # model specs\n",
    "# A = [[-0.5 0.25 0.25]; [-0.5 0.0 0.5]; [0.0 -0.5 0.5]]\n",
    "# model = TransitionModel(A, nothing, 0.0)\n",
    "# \n",
    "# # solve\n",
    "# function get_operator(m::TransitionModel) \n",
    "#     function awareness_operator_basis(du,u,p,t)\n",
    "#         m.t = t\n",
    "#         transition_dynamics!(du, m, u)\n",
    "#     end\n",
    "#     return MatrixFreeOperator(awareness_operator_basis)\n",
    "# end\n",
    "# prob = ODEProblem(MatrixFreeOperator((du,u,p,t)->transition_dynamics!(du, model, u), nothing),f_0,(0.0,T) )\n",
    "\n",
    "# # prob = ODEProblem(get_operator(model),f_0,(0.0,T))\n",
    "# solve(prob, LawsonEuler(krylov=true, m=5), dt=0.1)"
   ]
  }
 ],
 "metadata": {
  "kernelspec": {
   "display_name": "Julia 1.0.0",
   "language": "julia",
   "name": "julia-1.0"
  },
  "language_info": {
   "file_extension": ".jl",
   "mimetype": "application/julia",
   "name": "julia",
   "version": "1.0.0"
  }
 },
 "nbformat": 4,
 "nbformat_minor": 2
}

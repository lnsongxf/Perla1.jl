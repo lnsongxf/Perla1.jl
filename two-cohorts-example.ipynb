{
 "cells": [
  {
   "cell_type": "code",
   "execution_count": 1,
   "metadata": {},
   "outputs": [
    {
     "data": {
      "text/plain": [
       "5"
      ]
     },
     "execution_count": 1,
     "metadata": {},
     "output_type": "execute_result"
    }
   ],
   "source": [
    "using LinearAlgebra, Test\n",
    "\n",
    "# params\n",
    "t_2 = 1.0\n",
    "θ_1 = 1.0\n",
    "θ_2 = 1.0\n",
    "θ(t) = t < t_2 ? θ_1 : θ_2\n",
    "t = 0.0\n",
    "N = 5"
   ]
  },
  {
   "cell_type": "code",
   "execution_count": 2,
   "metadata": {},
   "outputs": [],
   "source": [
    "# intermediate vals\n",
    "N_total = 2*N;\n",
    "setsize = (N+1)^2;"
   ]
  },
  {
   "cell_type": "code",
   "execution_count": 3,
   "metadata": {},
   "outputs": [
    {
     "data": {
      "text/plain": [
       "\u001b[32m\u001b[1mTest Passed\u001b[22m\u001b[39m"
      ]
     },
     "execution_count": 3,
     "metadata": {},
     "output_type": "execute_result"
    }
   ],
   "source": [
    "function get_row_block(d_i)    \n",
    "    # note that all rows sum up to zero by construction\n",
    "    dl_block = -(z->((N_total-z)/N_total)*θ(t)).(d_i:(d_i+N))\n",
    "    d_block = -dl_block/2\n",
    "    du_block = -dl_block/2\n",
    "    if (d_i == N) # there's no diffusion to 2nd cohort in the last block\n",
    "        dl_block = dl_block/2\n",
    "    end\n",
    "    \n",
    "    mat = diagm(0 => dl_block, 1 => d_block, (1+N)=>du_block) \n",
    "    \n",
    "    # modify the last row, where first cohort products are fully recognized\n",
    "    mat[(N+1),(N+2)] = 0.0\n",
    "    mat[(N+1),end] *= 2 \n",
    "    mat[(N+1),:] /= 2 # if departure rate is halved for full recognized state\n",
    "    \n",
    "    # fill the rest in row block with zeros\n",
    "    if (d_i == 0)\n",
    "        return [mat[1:(N+1),:] zeros(N+1, (N+1)*(N-1))]\n",
    "    elseif (d_i >= (N-1))\n",
    "        return [zeros(N+1, d_i*(N+1)) mat[1:(N+1),:]][:,1:setsize]\n",
    "    else\n",
    "        return [zeros(N+1, d_i*(N+1)) mat[1:(N+1),:] zeros(N+1, (N-1-d_i)*(N+1))]\n",
    "    end\n",
    "end\n",
    "\n",
    "transition_mat = vcat(get_row_block.(0:N)...)\n",
    "\n",
    "@test all(transition_mat*ones(setsize,1) .== 0.0) # all row sum should be zero"
   ]
  }
 ],
 "metadata": {
  "kernelspec": {
   "display_name": "Julia 1.0.0",
   "language": "julia",
   "name": "julia-1.0"
  },
  "language_info": {
   "file_extension": ".jl",
   "mimetype": "application/julia",
   "name": "julia",
   "version": "1.0.0"
  }
 },
 "nbformat": 4,
 "nbformat_minor": 2
}

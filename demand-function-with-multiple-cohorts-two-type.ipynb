{
 "cells": [
  {
   "cell_type": "code",
   "execution_count": 1,
   "metadata": {},
   "outputs": [],
   "source": [
    "using OffsetArrays, Parameters, Plots, ForwardDiff, NLsolve, SpecialFunctions\n",
    "using ForwardDiff: jacobian, derivative"
   ]
  },
  {
   "cell_type": "code",
   "execution_count": 2,
   "metadata": {},
   "outputs": [],
   "source": [
    "gr(fmt = :png);"
   ]
  },
  {
   "cell_type": "markdown",
   "metadata": {},
   "source": [
    "# Model specification"
   ]
  },
  {
   "cell_type": "code",
   "execution_count": 3,
   "metadata": {},
   "outputs": [],
   "source": [
    "N_ks = (5, 5)  # number of firms per quality group H and L\n",
    "q = range(2.0, 3.0, length = length(N_ks)) \n",
    "\n",
    "N = sum(N_ks)\n",
    "k_bar = length(N_ks) # number of quality types\n",
    "cohorts = (N, ) # cohorts\n",
    "b_bar = length(cohorts) # number of cohorts\n",
    "f = fill(1/((N+1)^b_bar), (N+1)^b_bar); # awareness set distribution"
   ]
  },
  {
   "cell_type": "code",
   "execution_count": 4,
   "metadata": {
    "scrolled": true
   },
   "outputs": [
    {
     "data": {
      "text/plain": [
       "(cohorts = (10,), Γ_bar = 0.865600495724366, Ω = 1.0, q = 2.0:1.0:3.0, σ = 0.15, κ = 3.5, mc = 1.0, N_ks = (5, 5))"
      ]
     },
     "execution_count": 4,
     "metadata": {},
     "output_type": "execute_result"
    }
   ],
   "source": [
    "σ = 0.15 # baseline value calibrated from main paper\n",
    "κ = 3.5 # baseline value calibrated from main paper\n",
    "params = (cohorts = cohorts, Γ_bar = gamma(1-σ*(κ-1))^(1/(1-κ)) , Ω = 1.0, q = q, σ = σ, κ = κ, mc = 1.0, N_ks = N_ks)"
   ]
  },
  {
   "cell_type": "markdown",
   "metadata": {},
   "source": [
    "\n",
    "# Demand function with 2-type firms"
   ]
  },
  {
   "cell_type": "code",
   "execution_count": 5,
   "metadata": {},
   "outputs": [],
   "source": [
    "k = 1 # the quality type firm i belongs to\n",
    "p = fill(1.0, k_bar); # k_bar-vector of prices"
   ]
  },
  {
   "cell_type": "markdown",
   "metadata": {},
   "source": [
    "## Demand with 2-type under a single cohort\n",
    "\n",
    "Consider firms belonging to one of the two types $L$ and $H$ with different qualities $q_L$ and $q_H$. An awareness set can be represented as $n = (N_L, N_H)$ where $N_L$ and $N_H$ denote the number of firms awared from $L$ and $H$ types respectively.\n",
    "\n",
    "Given the awareness set distribution $f$, firm $i$ on $H$ type faces demand\n",
    "$$\n",
    "y_{i}(p_i, p_{-i}, f) \n",
    "=  \\bar{\\Gamma}^{1-\\kappa}\\Omega \\, q_H^{1/\\sigma}p_i^{-1/\\sigma - 1}\\, \\cdot \\\\ \n",
    "\\sum_{n \\in \\mathcal{N} } f_n   \\sum_{n_H =1}^n  \n",
    "\\dfrac{n_H}{N_H}  \\dfrac{\\binom{N_H}{n_H} \\binom{N_L}{n - n_H}}{\\binom{N_H + N_L}{n}}\n",
    "\\left( \n",
    "n_H \\left( \\dfrac{p_{H}}{q_{H}}   \\right)^{-1/\\sigma} +  \n",
    "(n - n_H) \\left( \\dfrac{p_{L}}{q_{L}}   \\right)^{-1/\\sigma} +\n",
    "\\dfrac{p_i^{-1/\\sigma} - p^{-1/\\sigma}_{H} }{ q_H^{-1/\\sigma }} \n",
    "\\right)^{\\sigma (\\kappa - 1)-1}\n",
    "$$"
   ]
  },
  {
   "cell_type": "code",
   "execution_count": 6,
   "metadata": {},
   "outputs": [
    {
     "data": {
      "text/plain": [
       "profit_derivative (generic function with 1 method)"
      ]
     },
     "execution_count": 6,
     "metadata": {},
     "output_type": "execute_result"
    }
   ],
   "source": [
    "# Demand function with 2-type under a single cohort\n",
    "# p_i: the price of product of firm i (can be different from p[k])\n",
    "# k: the qualtity type firm i belongs to\n",
    "# p: k_bar-vector of prices across firms\n",
    "# f: awareness set distribution on 1:(N+1)\n",
    "# params: model parameters\n",
    "# n: awareness set in 1:(N+1)\n",
    "# n_k: number of k-type firms awared such that n_k <= n\n",
    "function demand_summand(p_i, k, p, f, params, n, n_k)\n",
    "    @unpack cohorts, q, σ, κ, N_ks = params\n",
    "    N = sum(N_ks)\n",
    "    k_other = k == 1 ? 2 : 1\n",
    "    n_1 = k == 1 ? n_k : N - n_k\n",
    "    n_2 = N - n_1\n",
    "    \n",
    "    weight = (n_k / N_ks[k]) * (binomial(N_ks[k], n_k) * binomial(N_ks[k_other], n - n_k) / binomial(N, n))\n",
    "    summands = [n_1; n_2] .* (p ./ q).^(-1/σ)\n",
    "    return weight * (sum(summands) + (p_i^(-1/σ) - p[k]^(-1/σ)) / (q[k])^(-1/σ))^(σ*(κ-1)-1)\n",
    "end\n",
    "\n",
    "function demand(p_i, k, p, f, params)\n",
    "    @unpack cohorts, Γ_bar, Ω, q, σ, κ, N_ks = params\n",
    "    N = sum(N_ks)\n",
    "    k_bar = length(cohorts)\n",
    "    \n",
    "    f = reshape(f, Tuple(fill(0:N, k_bar)))\n",
    "    demand_value = 0\n",
    "\n",
    "    # only first cohort\n",
    "    for n in CartesianIndices(f)\n",
    "        if (n[1] > 0)\n",
    "            demand_value += f[n] * sum((n_k -> demand_summand(p_i, k, p, f, params, n[1], n_k)).(1:n[1]))\n",
    "        end\n",
    "    end\n",
    "    return Γ_bar^(1-κ)*Ω*q[k]^(1/σ)*p_i^(-1/σ-1) * demand_value\n",
    "end\n",
    "\n",
    "profit(p_i, k, p, f, params) = (p_i - params.mc) * demand(p_i, k, p, f, params)\n",
    "profit_derivative(p_i, k, p, f, params) = derivative(p_i -> profit(p_i, k, p, f, params), p_i)"
   ]
  },
  {
   "cell_type": "markdown",
   "metadata": {},
   "source": [
    "## Extension: Demand with 2-type under multiple cohorts\n",
    "\n",
    "Consider firms belonging to one of the two types $L$ and $H$ with different qualities $q_L$ and $q_H$. An awareness set can be represented as $n = (N_L, N_H)$ where $N_L$ and $N_H$ denote the number of firms awared from $L$ and $H$ types respectively.\n",
    "\n",
    "Given the awareness set distribution $f$, firm $i$ of type $k$ in $b$ cohort faces demand\n",
    "\n",
    "\\begin{equation}\\label{eq:full-total-demand-two-quality-multiple-cohort-alternative}\n",
    "\\begin{aligned}\n",
    "& y_{ikb}(p_i, p_{-i}, f) \n",
    "=  \\bar{\\Gamma}^{1-\\kappa}\\Omega \\, q_k^{1/\\sigma}p_i^{-1/\\sigma - 1}\\, \\dfrac{1}{N_k} \\cdot  \\\\ \n",
    "& \\quad \\sum_{n \\in \\mathcal{N} } f_n   \\sum_{n_k \\in \\mathcal{V} (n) }  \n",
    "\\Bigg\\{\n",
    "\\left[ n_{kb} \\prod_{b'=1}^{\\bar b} \n",
    " \\dfrac{\\binom{N_k}{n_{kb'}} \\binom{N_{-k}}{n_{b'} - n_{kb'}}}{\\binom{N_k + N_L}{n_{b'}}}\n",
    "\\right] \\cdot \\\\ & \\quad\n",
    "\\Bigg[\n",
    "\\sum_{b' = 1}^{\\bar b} \n",
    "\\left(\n",
    "n_{kb'} \\left( \\dfrac{p_{kb}}{q_{k}}   \\right)^{-1/\\sigma} +  \n",
    "(n - n_{kb'}) \\left( \\dfrac{p_{(-k)b}}{q_{-k}}   \\right)^{-1/\\sigma} \\right) + \n",
    "\\dfrac{p_i^{-1/\\sigma} - p^{-1/\\sigma}_{kb} }{ q_k^{-1/\\sigma }} \n",
    "\\Bigg]^{\\sigma (\\kappa - 1)-1} \\Bigg\\}\n",
    "\\end{aligned}\n",
    "\\end{equation}\n"
   ]
  },
  {
   "cell_type": "code",
   "execution_count": 7,
   "metadata": {},
   "outputs": [],
   "source": [
    "k = 1 # the quality type firm i belongs to\n",
    "p = fill(1.0, k_bar, b_bar); # k_bar-vector of prices"
   ]
  },
  {
   "cell_type": "code",
   "execution_count": 9,
   "metadata": {},
   "outputs": [
    {
     "data": {
      "text/plain": [
       "profit_derivative (generic function with 2 methods)"
      ]
     },
     "execution_count": 9,
     "metadata": {},
     "output_type": "execute_result"
    }
   ],
   "source": [
    "# Demand function with 2-type under a single cohort\n",
    "# p_i: the price of product of firm i (can be different from p[k])\n",
    "# k: the qualtity type firm i belongs to\n",
    "# b: the cohort firm i belongs to\n",
    "# p: k_bar by b_bar matrix of prices across qualities and cohorts\n",
    "# f: awareness set distribution on 1:(N+1)\n",
    "# params: model parameters\n",
    "# n: k_bar-vector of whose each element is in 1:N\n",
    "# n_k: number of k-type firms awared such that n_k <= n\n",
    "function demand_summand(p_i, k, b, p, f, params, n, n_k)\n",
    "    @unpack cohorts, q, σ, κ, N_ks = params\n",
    "    b_bar = length(cohorts)\n",
    "    N = sum(N_ks)\n",
    "    \n",
    "    k_other = k == 1 ? 2 : 1\n",
    "    n_k1 = k == 1 ? Tuple(n_k) : N .- Tuple(n_k) # b_bar-vector representing 1st elements of n_k\n",
    "    n_k2 = N .- n_k1 # b_bar-vector representing 2nd elements of n_k\n",
    "    \n",
    "    # given b_, compute the probability of choosing n_k[b_] (hypergeometric distribution)\n",
    "    choose_n_kb_(b_) = (binomial(N_ks[k], n_k[b_]) * binomial(N_ks[k_other], n[b_] - n_k[b_]) / \n",
    "                        binomial(N, n[b_]))\n",
    "    # probability that firm i is awared and n_k firms are awared out of type k\n",
    "    weight = (n_k[b] / N_ks[k]) * prod(choose_n_kb_.(1:b_bar))\n",
    "    # sum on p/q over all cohorts and types\n",
    "    summands = [n_k1 .* (p[1,:] ./ q[1]).^(-1/σ);\n",
    "                n_k2 .* (p[2,:] ./ q[2]).^(-1/σ)]\n",
    "    return weight * (sum(sum.(summands)) + (p_i^(-1/σ) - p[k,b]^(-1/σ)) / (q[k])^(-1/σ))^(σ*(κ-1)-1)\n",
    "end\n",
    "\n",
    "function demand(p_i, k, b, p, f, params)\n",
    "    @unpack cohorts, Γ_bar, Ω, q, σ, κ, N_ks = params\n",
    "    N = sum(N_ks)\n",
    "    b_bar = length(cohorts)\n",
    "    \n",
    "    f = reshape(f, Tuple(fill(0:N, b_bar)))\n",
    "    V_ns = CartesianIndices(Tuple(fill(0:N, b_bar))) # ⋃_n {V(n)}\n",
    "    demand_value = 0\n",
    "    for n in CartesianIndices(f)\n",
    "        if (n[b] > 0)\n",
    "            # extract V(n) by finding n_k in V_ns such that n_k <= n (elementwise) is true\n",
    "            V_n = V_ns[(n_k -> n_k <= n).(V_ns)] \n",
    "            # use v_k in V(n) such that v_k[b] > 0 (i.e., firm i in b cohort can be awared)\n",
    "            V_n = V_n[(n_k -> n_k[b] > 0).(V_n)]\n",
    "            demand_value += f[n] * sum((n_k -> demand_summand(p_i, k, b, p, f, params, n, n_k)).(V_n))\n",
    "        end\n",
    "    end\n",
    "    return Γ_bar^(1-κ)*Ω*q[k]^(1/σ)*p_i^(-1/σ-1) * demand_value\n",
    "end\n",
    "\n",
    "profit(p_i, k, b, p, f, params) = (p_i - params.mc) * demand(p_i, k, b, p, f, params)\n",
    "profit_derivative(p_i, k, b, p, f, params) = derivative(p_i -> profit(p_i, k, b, p, f, params), p_i)"
   ]
  },
  {
   "cell_type": "markdown",
   "metadata": {},
   "source": [
    "### Sanity check: test if multiple cohort demand nests one cohort demand"
   ]
  },
  {
   "cell_type": "code",
   "execution_count": 10,
   "metadata": {},
   "outputs": [],
   "source": [
    "b = 1\n",
    "for k in 1:2\n",
    "    for p_i in 1.0:.1:3.0\n",
    "        @assert demand(p_i, k, p, f, params) ≈ demand(p_i, k, b, p, f, params) \n",
    "    end\n",
    "end"
   ]
  }
 ],
 "metadata": {
  "kernelspec": {
   "display_name": "Julia 1.0.2",
   "language": "julia",
   "name": "julia-1.0"
  },
  "language_info": {
   "file_extension": ".jl",
   "mimetype": "application/julia",
   "name": "julia",
   "version": "1.0.2"
  }
 },
 "nbformat": 4,
 "nbformat_minor": 2
}

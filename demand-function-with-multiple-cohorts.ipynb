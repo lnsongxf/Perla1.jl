{
 "cells": [
  {
   "cell_type": "code",
   "execution_count": 1,
   "metadata": {},
   "outputs": [],
   "source": [
    "using OffsetArrays, Parameters, Plots"
   ]
  },
  {
   "cell_type": "code",
   "execution_count": 2,
   "metadata": {},
   "outputs": [
    {
     "data": {
      "text/plain": [
       "Plots.GRBackend()"
      ]
     },
     "execution_count": 2,
     "metadata": {},
     "output_type": "execute_result"
    }
   ],
   "source": [
    "gr(fmt = :png)"
   ]
  },
  {
   "cell_type": "code",
   "execution_count": 3,
   "metadata": {},
   "outputs": [],
   "source": [
    "N = 3 # number of firms per cohort\n",
    "cohorts = (N, N, N) # cohorts\n",
    "K = length(cohorts) # number of cohorts\n",
    "f = fill(1/(N+1)^K, (N+1)^K); # awareness set distribution"
   ]
  },
  {
   "cell_type": "code",
   "execution_count": 4,
   "metadata": {},
   "outputs": [
    {
     "data": {
      "text/plain": [
       "(cohorts = (3, 3, 3), Γ_bar = 1.0, Ω = 1.0, q = [1.0, 1.0, 1.0], σ = 0.5, κ = 1.5)"
      ]
     },
     "execution_count": 4,
     "metadata": {},
     "output_type": "execute_result"
    }
   ],
   "source": [
    "q = fill(1.0, K) # K-vector of qualities\n",
    "params = (cohorts = cohorts, Γ_bar = 1.0, Ω = 1.0, q = q, σ = 0.5, κ = 1.5)"
   ]
  },
  {
   "cell_type": "code",
   "execution_count": 5,
   "metadata": {},
   "outputs": [
    {
     "data": {
      "text/plain": [
       "demand (generic function with 1 method)"
      ]
     },
     "execution_count": 5,
     "metadata": {},
     "output_type": "execute_result"
    }
   ],
   "source": [
    "# Demand function with multiple cohorts\n",
    "# p_i: the price of product of firm i (can be different from p[b])\n",
    "# b: the cohort firm i belongs to\n",
    "# p: K-vector of prices across cohorts\n",
    "# f: awareness set distribution\n",
    "# params: model parameters\n",
    "function demand(p_i, b, p, f, params)\n",
    "    @unpack cohorts, Γ_bar, Ω, q, σ, κ = params\n",
    "    N = cohorts[1]\n",
    "    K = length(cohorts)\n",
    "    \n",
    "    f = reshape(f, Tuple(fill(0:N, K)))\n",
    "    demand_value = 0\n",
    "    summand(n) = sum(Tuple(n) .* (p ./ q).^(-1/σ)) \n",
    "    for n in CartesianIndices(f)\n",
    "        if (n[b] > 0)\n",
    "            demand_value += n[b] * f[n] * (summand(n) + p_i^(-1/σ) - p[b]^(-1/σ))^(σ*(κ-1)-1)\n",
    "        end\n",
    "    end\n",
    "    demand_value *= Γ_bar^(1-κ)*Ω*(q[b]^(1/σ))*(p_i^(-1/σ-1))\n",
    "    return demand_value\n",
    "end"
   ]
  },
  {
   "cell_type": "code",
   "execution_count": 6,
   "metadata": {},
   "outputs": [],
   "source": [
    "b = 1 # the cohort firm i belongs to\n",
    "p = fill(1.0, K); # K-vector of prices"
   ]
  },
  {
   "cell_type": "code",
   "execution_count": 7,
   "metadata": {},
   "outputs": [
    {
     "data": {
      "image/png": "[encoded data removed]"
     },
     "execution_count": 7,
     "metadata": {},
     "output_type": "execute_result"
    }
   ],
   "source": [
    "# plot the demand function\n",
    "plot(range(0.1,stop=3.0,length=100), p_i -> demand(p_i, b, p, f, params),\n",
    "    label = \"demand(p_i)\", lw = 3)"
   ]
  },
  {
   "cell_type": "code",
   "execution_count": 8,
   "metadata": {},
   "outputs": [],
   "source": [
    "# confirm that the demand function is decreasing in price\n",
    "@assert all(diff((p_i -> demand(p_i, b, p, f, params)).(1:100)) .< 0)"
   ]
  }
 ],
 "metadata": {
  "kernelspec": {
   "display_name": "Julia 1.0.2",
   "language": "julia",
   "name": "julia-1.0"
  },
  "language_info": {
   "file_extension": ".jl",
   "mimetype": "application/julia",
   "name": "julia",
   "version": "1.0.2"
  }
 },
 "nbformat": 4,
 "nbformat_minor": 2
}

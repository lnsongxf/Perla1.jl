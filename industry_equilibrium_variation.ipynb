{
 "cells": [
  {
   "cell_type": "code",
   "execution_count": 1,
   "metadata": {
    "scrolled": false
   },
   "outputs": [],
   "source": [
    "using Perla1, DataFrames, DataFramesMeta, CSV, Parameters"
   ]
  },
  {
   "cell_type": "code",
   "execution_count": 2,
   "metadata": {},
   "outputs": [
    {
     "data": {
      "text/plain": [
       "Plots.GRBackend()"
      ]
     },
     "execution_count": 2,
     "metadata": {},
     "output_type": "execute_result"
    }
   ],
   "source": [
    "using Plots\n",
    "gr(fmt = :png)"
   ]
  },
  {
   "cell_type": "code",
   "execution_count": 3,
   "metadata": {},
   "outputs": [
    {
     "data": {
      "text/plain": [
       "d_alt (generic function with 1 method)"
      ]
     },
     "execution_count": 3,
     "metadata": {},
     "output_type": "execute_result"
    }
   ],
   "source": [
    "ϕ_default = 0.9\n",
    "η_default = [6.5]\n",
    "ηs = [6.5]\n",
    "νs = range(0.01, 0.05, length = 10)\n",
    "δ_Ms = range(0.0225, 0.2, length = 10)\n",
    "settings = stationary_settings_default()\n",
    "industry_settings = merge(stationary_settings_default(),\n",
    "    industry_settings_default(\n",
    "        ftol = 1e-4, \n",
    "        ignore_p_i_deviations = true, \n",
    "        trace_iterations = true))\n",
    "\n",
    "function d_alt(θ_i, μ_i, params)\n",
    "    @unpack η, ν, ϕ = params\n",
    "    return (θ_i^ϕ/(ν^(ϕ/2)) + abs(μ_i-1.0)^ϕ/η)^(2/ϕ)\n",
    "end"
   ]
  },
  {
   "cell_type": "markdown",
   "metadata": {},
   "source": [
    "# Results by `η`"
   ]
  },
  {
   "cell_type": "code",
   "execution_count": 4,
   "metadata": {},
   "outputs": [
    {
     "name": "stdout",
     "output_type": "stream",
     "text": [
      " 19.219225 seconds (63.64 M allocations: 3.131 GiB, 8.50% gc time)\n",
      "  4.798198 seconds (11.81 M allocations: 608.504 MiB, 9.19% gc time)\n"
     ]
    }
   ],
   "source": [
    "θs = zeros(0)\n",
    "μs = zeros(0)\n",
    "Qs = zeros(0)\n",
    "Bs = zeros(0)\n",
    "profit_shares = zeros(0)\n",
    "\n",
    "for η in ηs\n",
    "    # fix other parameters other than δ_M\n",
    "    params = stationary_params_default()\n",
    "    industry_params = merge(industry_params_default(η = η, d = d_alt, ϕ = ϕ_default), params)\n",
    "    @time sol = industry_equilibrium(industry_params, industry_settings)\n",
    "    \n",
    "    θ = sol.zero[1]\n",
    "    μ = sol.zero[2]\n",
    "    @time ss = steadystate(merge(params, (θ = θ, μ = μ)), settings)\n",
    "    \n",
    "    append!(θs, θ)\n",
    "    append!(μs, μ)\n",
    "    append!(Qs, ss.Q)\n",
    "    append!(Bs, ss.B)\n",
    "    append!(profit_shares, ss.profit_share)\n",
    "end"
   ]
  },
  {
   "cell_type": "code",
   "execution_count": 5,
   "metadata": {},
   "outputs": [
    {
     "data": {
      "text/html": [
       "<table class=\"data-frame\"><thead><tr><th></th><th>η</th><th>ν</th><th>δ_M</th><th>θ</th><th>μ</th><th>Q</th><th>B</th><th>profit_share</th></tr><tr><th></th><th>Float64</th><th>Float64</th><th>Float64</th><th>Float64</th><th>Float64</th><th>Float64</th><th>Float64</th><th>Float64</th></tr></thead><tbody><p>1 rows × 9 columns (omitted printing of 1 columns)</p><tr><th>1</th><td>6.5</td><td>0.0178923</td><td>0.056</td><td>0.0585149</td><td>1.55898</td><td>0.814186</td><td>0.829125</td><td>0.170875</td></tr></tbody></table>"
      ],
      "text/latex": [
       "\\begin{tabular}{r|ccccccccc}\n",
       "\t& η & ν & δ\\_M & θ & μ & Q & B & profit\\_share & \\\\\n",
       "\t\\hline\n",
       "\t& Float64 & Float64 & Float64 & Float64 & Float64 & Float64 & Float64 & Float64 & \\\\\n",
       "\t\\hline\n",
       "\t1 & 6.5 & 0.0178923 & 0.056 & 0.0585149 & 1.55898 & 0.814186 & 0.829125 & 0.170875 & $\\dots$ \\\\\n",
       "\\end{tabular}\n"
      ],
      "text/plain": [
       "1×9 DataFrame. Omitted printing of 3 columns\n",
       "│ Row │ η       │ ν         │ δ_M     │ θ         │ μ       │ Q        │\n",
       "│     │ \u001b[90mFloat64\u001b[39m │ \u001b[90mFloat64\u001b[39m   │ \u001b[90mFloat64\u001b[39m │ \u001b[90mFloat64\u001b[39m   │ \u001b[90mFloat64\u001b[39m │ \u001b[90mFloat64\u001b[39m  │\n",
       "├─────┼─────────┼───────────┼─────────┼───────────┼─────────┼──────────┤\n",
       "│ 1   │ 6.5     │ 0.0178923 │ 0.056   │ 0.0585149 │ 1.55898 │ 0.814186 │"
      ]
     },
     "execution_count": 5,
     "metadata": {},
     "output_type": "execute_result"
    }
   ],
   "source": [
    "results_by_ηs = DataFrame(η = ηs,\n",
    "    ν = industry_params_default().ν,\n",
    "    δ_M = stationary_params_default().δ_M,\n",
    "    θ = θs,\n",
    "    μ = μs,\n",
    "    Q = Qs, B = Bs, \n",
    "    profit_share = profit_shares)\n",
    "results_by_ηs.change_by = \"eta\";\n",
    "results_by_ηs"
   ]
  },
  {
   "cell_type": "markdown",
   "metadata": {},
   "source": [
    "# Results by `ν`"
   ]
  },
  {
   "cell_type": "code",
   "execution_count": null,
   "metadata": {},
   "outputs": [],
   "source": [
    "θs = zeros(0)\n",
    "μs = zeros(0)\n",
    "Qs = zeros(0)\n",
    "Bs = zeros(0)\n",
    "profit_shares = zeros(0)\n",
    "\n",
    "for ν in νs\n",
    "    # fix other parameters other than δ_M\n",
    "    params = stationary_params_default()\n",
    "    industry_params = merge(industry_params_default(η = η_default, d = d_alt, ϕ = ϕ_default, ν = ν), params)\n",
    "    @time sol = industry_equilibrium(industry_params, industry_settings)\n",
    "    \n",
    "    θ = sol.zero[1]\n",
    "    μ = sol.zero[2]\n",
    "    ss = steadystate(merge(params, (θ = θ, μ = μ)), settings)\n",
    "    \n",
    "    append!(θs, θ)\n",
    "    append!(μs, μ)\n",
    "    append!(Qs, ss.Q)\n",
    "    append!(Bs, ss.B)\n",
    "    append!(profit_shares, ss.profit_share)\n",
    "end"
   ]
  },
  {
   "cell_type": "code",
   "execution_count": null,
   "metadata": {},
   "outputs": [],
   "source": [
    "results_by_νs = DataFrame(η = η_default,\n",
    "    ν = νs,\n",
    "    δ_M = stationary_params_default().δ_M,\n",
    "    θ = θs,\n",
    "    μ = μs,\n",
    "    Q = Qs, B = Bs, \n",
    "    profit_share = profit_shares)\n",
    "results_by_νs.change_by = \"nu\";\n",
    "results_by_νs"
   ]
  },
  {
   "cell_type": "markdown",
   "metadata": {},
   "source": [
    "# Results by `δ_M `"
   ]
  },
  {
   "cell_type": "code",
   "execution_count": null,
   "metadata": {},
   "outputs": [],
   "source": [
    "θs = zeros(0)\n",
    "μs = zeros(0)\n",
    "Qs = zeros(0)\n",
    "Bs = zeros(0)\n",
    "profit_shares = zeros(0)\n",
    "\n",
    "for δ_M in δ_Ms\n",
    "    # fix other parameters other than δ_M\n",
    "    params = stationary_params_default(δ_M = δ_M)\n",
    "    industry_params = merge(industry_params_default(η = η_default, d = d_alt, ϕ = ϕ_default), params)\n",
    "    @time sol = industry_equilibrium(industry_params, industry_settings)\n",
    "    \n",
    "    θ = sol.zero[1]\n",
    "    μ = sol.zero[2]\n",
    "    ss = steadystate(merge(params, (θ = θ, μ = μ)), settings)\n",
    "    \n",
    "    append!(θs, θ)\n",
    "    append!(μs, μ)\n",
    "    append!(Qs, ss.Q)\n",
    "    append!(Bs, ss.B)\n",
    "    append!(profit_shares, ss.profit_share)\n",
    "end"
   ]
  },
  {
   "cell_type": "code",
   "execution_count": null,
   "metadata": {},
   "outputs": [],
   "source": [
    "results_by_δ_Ms = DataFrame(η = η_default,\n",
    "    ν = industry_params_default().ν,\n",
    "    δ_M = δ_Ms,\n",
    "    θ = θs,\n",
    "    μ = μs,\n",
    "    Q = Qs, B = Bs, \n",
    "    profit_share = profit_shares)\n",
    "results_by_δ_Ms.change_by = \"delta_M\";\n",
    "results_by_δ_Ms"
   ]
  },
  {
   "cell_type": "markdown",
   "metadata": {},
   "source": [
    "# Write CSV"
   ]
  },
  {
   "cell_type": "code",
   "execution_count": null,
   "metadata": {},
   "outputs": [],
   "source": [
    "equilibriums = deepcopy(results_by_ηs)\n",
    "append!(equilibriums, results_by_νs)\n",
    "append!(equilibriums, results_by_δ_Ms)\n",
    "\n",
    "# change unicode column names to English\n",
    "rename!(equilibriums, :η => :eta)\n",
    "rename!(equilibriums, :ν => :nu)\n",
    "rename!(equilibriums, :δ_M => :delta_M)\n",
    "rename!(equilibriums, :μ => :mu)\n",
    "rename!(equilibriums, :θ => :theta)\n",
    "\n",
    "CSV.write(\"industry-equilibrium-variation.csv\", equilibriums)\n",
    "equilibriums"
   ]
  }
 ],
 "metadata": {
  "kernelspec": {
   "display_name": "Julia 1.1.0",
   "language": "julia",
   "name": "julia-1.1"
  },
  "language_info": {
   "file_extension": ".jl",
   "mimetype": "application/julia",
   "name": "julia",
   "version": "1.1.0"
  }
 },
 "nbformat": 4,
 "nbformat_minor": 2
}

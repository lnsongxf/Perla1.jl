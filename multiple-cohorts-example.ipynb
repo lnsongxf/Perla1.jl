{
 "cells": [
  {
   "cell_type": "code",
   "execution_count": 1,
   "metadata": {},
   "outputs": [
    {
     "name": "stderr",
     "output_type": "stream",
     "text": [
      "┌ Info: Recompiling stale cache file C:\\Users\\Chiyoung Ahn\\.julia\\compiled\\v1.0\\Perla1\\nyjg2.ji for Perla1 [c0b4307c-ed70-5091-a49a-e521e9681a02]\n",
      "└ @ Base loading.jl:1184\n",
      "┌ Warning: Package Perla1 does not have DiffEqOperators in its dependencies:\n",
      "│ - If you have Perla1 checked out for development and have\n",
      "│   added DiffEqOperators as a dependency but haven't updated your primary\n",
      "│   environment's manifest file, try `Pkg.resolve()`.\n",
      "│ - Otherwise you may need to report an issue with Perla1\n",
      "└ Loading DiffEqOperators into Perla1 from project dependency, future warnings for Perla1 are suppressed.\n"
     ]
    }
   ],
   "source": [
    "using Perla1, Parameters, Test, LinearAlgebra, DifferentialEquations"
   ]
  },
  {
   "cell_type": "code",
   "execution_count": 2,
   "metadata": {},
   "outputs": [
    {
     "data": {
      "text/plain": [
       "sanity_check_dynamics (generic function with 1 method)"
      ]
     },
     "execution_count": 2,
     "metadata": {},
     "output_type": "execute_result"
    }
   ],
   "source": [
    "# sanity check fcns\n",
    "# get Q in matrix form for sanity check\n",
    "function get_Q_matrix(N, μ, θ, θ_d, f0)\n",
    "    dl = fill(μ, N)\n",
    "    d = collect(-μ.-(N:-1:0).*(θ/N))\n",
    "    du = collect((N:-1:1).*(θ/N))\n",
    "    Q_basis = LinearAlgebra.Tridiagonal(dl,d,du)\n",
    "\n",
    "    function Q(a)\n",
    "        Q_basis[1,1] = -(θ + θ_d*(1-f0(a)))\n",
    "        Q_basis[1,2] = θ + θ_d*(1-f0(a))\n",
    "        return Q_basis\n",
    "    end \n",
    "\n",
    "    return Q\n",
    "end\n",
    "\n",
    "# solve model with matrix Q\n",
    "function solve_transition_dynamics_matrix(Q_matrix, f_0, T)\n",
    "    # solve transition dynamics given \n",
    "    # Q; N by N matrix generator\n",
    "    # f_0; N vector of initial distribution\n",
    "    # T; Float64 terminal time\n",
    "    df(f,p,a) = Q_matrix(a)' * f\n",
    "    prob = DifferentialEquations.ODEProblem(df,f_0,(0.0,T))\n",
    "    return solve(prob);\n",
    "end\n",
    "\n",
    "function sanity_check_dynamics(Q, params, f_0) \n",
    "    # solve dynamics\n",
    "    sol_count = solve_transition_dynamics(Q, params, f_0, T)\n",
    "\n",
    "    # solve dynamics, using matrix for benchmark\n",
    "    Q_matrix = get_Q_matrix(params.N, params.μ, params.θ, params.θ_d, params.f0)\n",
    "    sol_count_matrix = solve_transition_dynamics_matrix(Q_matrix, f_0, T)\n",
    "\n",
    "    # average product awareness\n",
    "    f_count(a) = dot(0:N, sol_count(a)) \n",
    "    f_count_matrix(a) = dot(0:N, sol_count_matrix(a)) # average awareness\n",
    "\n",
    "    # check if f is a probability distribution for all t in (0, T)\n",
    "    @test all(sum.(sol_count.(ts)) .≈ 1.0)\n",
    "\n",
    "    # check if there is no forgetting, \n",
    "    # i.e., f_count is increasing.\n",
    "    @test all(diff(f_count.(ts)) .> 0)\n",
    "\n",
    "    # check if solutions are close to the ones based on matrix\n",
    "    # (if Q is time-variant there are numerical errors, be more generous)\n",
    "    f0s = (params.f0).(ts)\n",
    "    is_Q_time_variant = any(y -> y != first(f0s), f0s)\n",
    "    if (is_Q_time_variant)\n",
    "        @test f_count.(0:0.1:T) ≈ f_count_matrix.(0:0.1:T) atol=1e+1\n",
    "    else\n",
    "        @test f_count.(0:0.1:T) ≈ f_count_matrix.(0:0.1:T) atol=1e-4\n",
    "    end\n",
    "end"
   ]
  },
  {
   "cell_type": "code",
   "execution_count": 3,
   "metadata": {},
   "outputs": [
    {
     "data": {
      "text/plain": [
       "3-element Array{Float64,1}:\n",
       " 1.0\n",
       " 0.0\n",
       " 0.0"
      ]
     },
     "execution_count": 3,
     "metadata": {},
     "output_type": "execute_result"
    }
   ],
   "source": [
    "N = 2\n",
    "μ = 0.0\n",
    "θ = 0.06 # baseline parameter from Perla16 (Appendix E.4)\n",
    "θ_d = 0.0 # time-invariant transition matrix\n",
    "T = 1\n",
    "ts = range(0.0, stop = T, length = 50)\n",
    "f0(a) = 0.5 # time-invariant transition matrix\n",
    "cohort_single = (N,)\n",
    "\n",
    "params_base = @with_kw (N = N, μ = μ, θ = θ, θ_d = θ_d, f0 = f0, cohorts = cohort_single) # base parameters\n",
    "params = params_base()\n",
    "f_0 = [1.0; fill(0.0, N)]"
   ]
  },
  {
   "cell_type": "code",
   "execution_count": 4,
   "metadata": {},
   "outputs": [
    {
     "data": {
      "text/plain": [
       "Q_a! (generic function with 1 method)"
      ]
     },
     "execution_count": 4,
     "metadata": {},
     "output_type": "execute_result"
    }
   ],
   "source": [
    "# time-variant dynamics, with single cohort\n",
    "function Q_a!(df, f, p, t)\n",
    "    @unpack μ, θ, θ_d, f0, cohorts = p\n",
    "    N_1 = cohorts[1]\n",
    "    e_1 = CartesianIndex((1,))\n",
    "    current_cohort = 1 # single cohort case\n",
    "    \n",
    "    f = reshape(f, (cohorts.+1))\n",
    "    df = reshape(df, (cohorts.+1))\n",
    "    \n",
    "    df[1] = -(θ + θ_d*(1-f0(t)))*f[1] + μ*f[2]\n",
    "    for i in CartesianIndices(f)\n",
    "        if (i[current_cohort] > 1 && i[current_cohort] <= N_1)\n",
    "            i_previous = i - e_1\n",
    "            i_forward = i + e_1\n",
    "            df[i] = θ*((N+2-i[current_cohort])/N)*f[i_previous] - \n",
    "                    (μ+θ*((N+1-i[current_cohort])/N))*f[i] + \n",
    "                    μ*f[i_forward]\n",
    "        end\n",
    "    end\n",
    "    df[2] = (θ + θ_d*(1-f0(t)))*f[1] - (μ+θ*((N-1)/N))*f[2] + μ*f[3]\n",
    "    df[end] = (θ/N)*f[N] - μ*f[N+1]\n",
    "    \n",
    "    f = reshape(f, (N_1+1,))   \n",
    "    df = reshape(df, (N_1+1,))\n",
    "end"
   ]
  },
  {
   "cell_type": "code",
   "execution_count": 5,
   "metadata": {},
   "outputs": [
    {
     "data": {
      "text/plain": [
       "\u001b[32m\u001b[1mTest Passed\u001b[22m\u001b[39m"
      ]
     },
     "execution_count": 5,
     "metadata": {},
     "output_type": "execute_result"
    }
   ],
   "source": [
    "sanity_check_dynamics(Q_a!, params, f_0) "
   ]
  }
 ],
 "metadata": {
  "kernelspec": {
   "display_name": "Julia 1.0.0",
   "language": "julia",
   "name": "julia-1.0"
  },
  "language_info": {
   "file_extension": ".jl",
   "mimetype": "application/julia",
   "name": "julia",
   "version": "1.0.0"
  }
 },
 "nbformat": 4,
 "nbformat_minor": 2
}

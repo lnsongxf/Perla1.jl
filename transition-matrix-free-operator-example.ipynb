{
 "cells": [
  {
   "cell_type": "code",
   "execution_count": null,
   "metadata": {},
   "outputs": [],
   "source": [
    "using DiffEqOperators, OrdinaryDiffEq, LinearAlgebra\n",
    "\n",
    "# TransitionModel defn\n",
    "struct TransitionModel\n",
    "    A # transition matrix\n",
    "    args\n",
    "    t # current time\n",
    "end\n",
    "\n",
    "function (M::TransitionModel)(du, u, p, t)\n",
    "    LinearAlgebra.mul!(du, M, u)\n",
    "end\n",
    "\n",
    "# overload methods for matrix analogy\n",
    "LinearAlgebra.size(m::TransitionModel, i::Int64) = size(m.A, i)\n",
    "LinearAlgebra.ishermitian(m::TransitionModel) = ishermitian(m.A)\n",
    "transition_dynamics!(y, m::TransitionModel, b) = mul!(y, m.A, b)\n",
    "function transition_dynamics!(Y, m::TransitionModel, B::AbstractMatrix{T}) where {T} \n",
    "    N = size(A,1)\n",
    "    for j in 1:(N+1)\n",
    "        Y[:,j] = mul!(similar(B[:,j]), m, B[:,j])\n",
    "    end    \n",
    "end\n",
    "LinearAlgebra.opnorm(m::TransitionModel, p) = opnorm(m.A, p)\n",
    "\n",
    "# solution setup\n",
    "T = 1\n",
    "ts = 0:0.1:T\n",
    "f_0 = [1.0; 0.0; 0.0]"
   ]
  },
  {
   "cell_type": "markdown",
   "metadata": {},
   "source": [
    "### Models with time-independent operators"
   ]
  },
  {
   "cell_type": "code",
   "execution_count": null,
   "metadata": {},
   "outputs": [],
   "source": [
    "# model specs\n",
    "A = [[-0.5 0.25 0.25]; [-0.5 0.0 0.5]; [0.0 -0.5 0.5]]\n",
    "model = TransitionModel(A, nothing, 0.0)\n",
    "\n",
    "# solve\n",
    "prob = ODEProblem(MatrixFreeOperator((du,u)->transition_dynamics!(du, model, u)),f_0,(0.0,T))\n",
    "solve(prob, LawsonEuler(krylov=true, m=5), dt=0.1)"
   ]
  },
  {
   "cell_type": "markdown",
   "metadata": {},
   "source": [
    "### Models with time-dependent operators"
   ]
  },
  {
   "cell_type": "code",
   "execution_count": null,
   "metadata": {},
   "outputs": [],
   "source": [
    "# model specs\n",
    "A = [[-0.5 0.25 0.25]; [-0.5 0.0 0.5]; [0.0 -0.5 0.5]]\n",
    "model = TransitionModel(A, nothing, 0.0)\n",
    "\n",
    "# operator\n",
    "function generate_operator(m::TransitionModel) \n",
    "    function awareness_operator_basis(du,u,p,t)\n",
    "        m.t = t\n",
    "        transition_dynamics!(du, m, u)\n",
    "    end\n",
    "    function awareness_operator_basis(du,u)\n",
    "        transition_dynamics!(du, m, u)\n",
    "    end\n",
    "    operator = MatrixFreeOperator(awareness_operator_basis, nothing)\n",
    "    return operator\n",
    "end\n",
    "\n",
    "operator = generate_operator(model) \n",
    "Base.size(::typeof(operator), n) = Base.size(model, n)\n",
    "LinearAlgebra.opnorm(::typeof(operator), n::Real) = LinearAlgebra.opnorm(model, n)\n",
    "LinearAlgebra.ishermitian(::typeof(operator)) = LinearAlgebra.ishermitian(model)\n",
    "DiffEqBase.isinplace(::typeof(operator), num) = true\n",
    "\n",
    "# prob = SplitODEProblem(operator, (du,u,p,t)->0, f_0, (0.0,T))\n",
    "prob = ODEProblem(operator,f_0,(0.0,T))\n",
    "solve(prob, LawsonEuler(krylov=true, m=5), dt=0.1)"
   ]
  }
 ],
 "metadata": {
  "kernelspec": {
   "display_name": "Julia 1.0.0",
   "language": "julia",
   "name": "julia-1.0"
  },
  "language_info": {
   "file_extension": ".jl",
   "mimetype": "application/julia",
   "name": "julia",
   "version": "1.0.0"
  }
 },
 "nbformat": 4,
 "nbformat_minor": 2
}

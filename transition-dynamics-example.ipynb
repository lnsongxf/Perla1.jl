{
 "cells": [
  {
   "cell_type": "code",
   "execution_count": null,
   "metadata": {
    "scrolled": true
   },
   "outputs": [],
   "source": [
    "using DifferentialEquations, Plots, Test, LinearAlgebra, SparseArrays, DiffEqOperators\n",
    "using Perla1"
   ]
  },
  {
   "cell_type": "markdown",
   "metadata": {},
   "source": [
    "# Using transition matrix based dynamics"
   ]
  },
  {
   "cell_type": "code",
   "execution_count": null,
   "metadata": {},
   "outputs": [],
   "source": [
    "# get Q in matrix form for sanity check\n",
    "function get_Q_matrix(N, μ, θ, θ_d, f0)\n",
    "    dl = fill(μ, N)\n",
    "    d = collect(-μ.-(N:-1:0).*(θ/N))\n",
    "    du = collect((N:-1:1).*(θ/N))\n",
    "    Q_basis = LinearAlgebra.Tridiagonal(dl,d,du)\n",
    "\n",
    "    function Q(a)\n",
    "        Q_basis[1,1] = -(θ + θ_d*(1-f0(a)))\n",
    "        Q_basis[1,2] = θ + θ_d*(1-f0(a))\n",
    "        return Q_basis\n",
    "    end \n",
    "\n",
    "    return Q\n",
    "end\n",
    "\n",
    "# solve model with matrix Q\n",
    "function solve_transition_dynamics_matrix(Q_matrix, f_0, T)\n",
    "    # solve transition dynamics given \n",
    "    # Q; N by N matrix generator\n",
    "    # f_0; N vector of initial distribution\n",
    "    # T; Float64 terminal time\n",
    "    df(f,p,a) = Q_matrix(a)' * f\n",
    "    prob = DifferentialEquations.ODEProblem(df,f_0,(0.0,T))\n",
    "    return solve(prob);\n",
    "end"
   ]
  },
  {
   "cell_type": "code",
   "execution_count": null,
   "metadata": {},
   "outputs": [],
   "source": [
    "# simple duopoly\n",
    "N = 2\n",
    "T = 100.0\n",
    "μ = 0.0\n",
    "θ = 0.06 # baseline parameter from Perla16 (Appendix E.4)\n",
    "θ_d = 0.21 # baseline parameter from Perla16 (Appendix E.4)\n",
    "f0(a) = (θ_d + θ) / (θ_d + θ * exp(θ_d + θ)*a)\n",
    "\n",
    "# define generator\n",
    "Q = get_Q_matrix(N, μ, θ, θ_d, f0)\n",
    "\n",
    "# solve the corresponding ODE\n",
    "f_0 = [1.0; 0.0; 0.0]\n",
    "sol_count = solve_transition_dynamics_matrix(Q, f_0, T)\n",
    "\n",
    "# convert to the counting solution\n",
    "f0_count(a) = sol_count(a)[1]\n",
    "f1_count(a) = sol_count(a)[2]\n",
    "f2_count(a) = sol_count(a)[3]\n",
    "\n",
    "# plot\n",
    "plot(sol_count,linewidth=5,\n",
    "    title=\"Solution (using count transition)\",\n",
    "    xaxis=\"t\",yaxis=\"f(t)\",label=[\"f0\" \"f1\" \"f2\"])"
   ]
  },
  {
   "cell_type": "code",
   "execution_count": null,
   "metadata": {},
   "outputs": [],
   "source": [
    "f_count(a) = dot(0:N, sol_count(a)) # average product awareness\n",
    "plot(0:0.01:T, f_count,linewidth=5,\n",
    "    title=\"Average product awareness (using count transition)\",\n",
    "    xaxis=\"t\",yaxis=\"f(t)\",label=[\"f_average\"],linecolor=\"purple\")"
   ]
  },
  {
   "cell_type": "code",
   "execution_count": null,
   "metadata": {},
   "outputs": [],
   "source": [
    "# simple duopoly, using awareness set\n",
    "# define generator\n",
    "f_hat0(a) = (θ_d + θ) / (θ_d + θ*exp((θ_d + θ)*a)) # (A.4) in appendix\n",
    "f_hat_0 = [1.0; 0.0; 0.0; 0.0]\n",
    "Q_hat(a) = [-(θ + θ_d*(1-f0(a))) (θ + θ_d*(1-f0(a)))/N (θ + θ_d*(1-f0(a)))/N 0.0; \n",
    "            0.0 -θ/2 0.0 θ/2;\n",
    "            0.0 0.0 -θ/2 θ/2;\n",
    "            0.0 0.0 0.0 0.0]\n",
    "\n",
    "# solve the corresponding ODE\n",
    "sol_awareness = solve_transition_dynamics_matrix(Q_hat, f_hat_0, T)\n",
    "\n",
    "# convert to the counting solution\n",
    "f0_awareness(a) = sol_awareness(a)[1] # no product\n",
    "f1_awareness(a) = sol_awareness(a)[2] + sol_awareness(a)[3] # product 1 or product 2\n",
    "f2_awareness(a) = sol_awareness(a)[4] # two products\n",
    "\n",
    "# plot\n",
    "plot(0:0.01:T, [f0_awareness, f1_awareness, f2_awareness],linewidth=5,\n",
    "    title=\"Solution (using awareness set transition)\",\n",
    "     xaxis=\"t\",yaxis=\"f(t)\",label=[\"f0\" \"f1\" \"f2\"])"
   ]
  },
  {
   "cell_type": "code",
   "execution_count": null,
   "metadata": {},
   "outputs": [],
   "source": [
    "f_awareness(a) = dot(0:N, [f0_awareness(a); f1_awareness(a); f2_awareness(a)]) # average product awareness\n",
    "plot(0:0.01:T, f_count,linewidth=5,\n",
    "    title=\"Average product awareness (using awareness set transition)\",\n",
    "    xaxis=\"t\",yaxis=\"f(t)\",label=[\"f_average\"],linecolor=\"purple\")"
   ]
  },
  {
   "cell_type": "code",
   "execution_count": null,
   "metadata": {},
   "outputs": [],
   "source": [
    "@test f0_count.(0:0.1:T) ≈ f0_awareness.(0:0.1:T) atol=1e-4\n",
    "@test f1_count.(0:0.1:T) ≈ f1_awareness.(0:0.1:T) atol=1e-4\n",
    "@test f2_count.(0:0.1:T) ≈ f2_awareness.(0:0.1:T) atol=1e-4\n",
    "@test f_count.(0:0.1:T) ≈ f_awareness.(0:0.1:T) atol=1e-4"
   ]
  },
  {
   "cell_type": "markdown",
   "metadata": {},
   "source": [
    "# Using matrix-free methods"
   ]
  },
  {
   "cell_type": "code",
   "execution_count": null,
   "metadata": {},
   "outputs": [],
   "source": [
    "function get_Q_base(N, μ, θ)\n",
    "    # construct (N+1) by (N+1) base matrix such that\n",
    "    # the last N rows of base_matrix correspond to the last N rows of Q(a) \n",
    "    # based on (A.3) in appendix\n",
    "    dl = fill(μ, N)\n",
    "    d = collect(-μ.-(N:-1:0).*(θ/N))\n",
    "    du = collect((N:-1:1).*(θ/N))\n",
    "    return SparseArrays.spdiagm(-1 => dl, 0 => d, 1 => du)\n",
    "end\n",
    "\n",
    "function solve_transition_dynamics_matrix_free(N, μ, θ, θ_d, f0, f_0, T)\n",
    "    Q_base = get_Q_base(N, μ, θ)\n",
    "    \n",
    "    function update_Q(Q, u, p, a) \n",
    "        Q[1,1] = -(θ + θ_d*(1-f0(a)))\n",
    "        Q[2,1] = θ + θ_d*(1-f0(a))\n",
    "    end\n",
    "    \n",
    "    # transition dynamics (linear in f)\n",
    "    f1 = DiffEqArrayOperator(Q_base'; update_func = update_Q)\n",
    "    # there's no nonlinear term\n",
    "    f2 = DiffEqArrayOperator(zeros(Float64, N+1, N+1)) \n",
    "    # define a split ODE problem, only with linear term\n",
    "    prob = SplitODEProblem(f1, f2, f_0, (0.0, T))\n",
    "    # solve it\n",
    "    sol = solve(prob)\n",
    "end\n",
    "\n",
    "f0_a(a) = (θ_d + θ) / (θ_d + θ*exp((θ_d + θ)*a)) \n",
    "sol_count = solve_transition_dynamics_matrix_free(N, μ, θ, θ_d, f0_a, f_0, T)\n",
    "\n",
    "# convert to the counting solution\n",
    "f0_count_matrix_free(a) = sol_count(a)[1]\n",
    "f1_count_matrix_free(a) = sol_count(a)[2]\n",
    "f2_count_matrix_free(a) = sol_count(a)[3]\n",
    "f_count_matrix_free(a) = dot(0:N, sol_count(a)) # average product awareness\n",
    "\n",
    "# plot\n",
    "plot(sol_count,linewidth=5,\n",
    "    title=\"Solution (using count transition, matrix-free method)\",\n",
    "    xaxis=\"t\",yaxis=\"f(t)\",label=[\"f0\" \"f1\" \"f2\"])"
   ]
  },
  {
   "cell_type": "code",
   "execution_count": null,
   "metadata": {},
   "outputs": [],
   "source": [
    "# check if they yield identical results\n",
    "@test f0_count.(0:0.1:T) ≈ f0_count_matrix_free.(0:0.1:T) atol=1e-4\n",
    "@test f1_count.(0:0.1:T) ≈ f1_count_matrix_free.(0:0.1:T) atol=1e-4\n",
    "@test f2_count.(0:0.1:T) ≈ f2_count_matrix_free.(0:0.1:T) atol=1e-4\n",
    "@test f_count.(0:0.1:T) ≈ f_count_matrix_free.(0:0.1:T) atol=1e-4"
   ]
  },
  {
   "cell_type": "markdown",
   "metadata": {},
   "source": [
    "# Using Perla1 package "
   ]
  },
  {
   "cell_type": "code",
   "execution_count": null,
   "metadata": {},
   "outputs": [],
   "source": [
    "using ExponentialUtilities, Parameters\n",
    "\n",
    "# time-variant dynamics, with single cohort\n",
    "function Q_a!(df, f, p, t)\n",
    "    @unpack μ, θ, θ_d, f0, cohorts = p\n",
    "    N_1 = cohorts[1]\n",
    "    e_1 = CartesianIndex((1,))\n",
    "    current_cohort = 1 # single cohort case\n",
    "\n",
    "    f = reshape(f, (cohorts.+1))\n",
    "    df = reshape(df, (cohorts.+1))\n",
    "\n",
    "    df[1] = -(θ + θ_d*(1-f0(t)))*f[1] + μ*f[2]\n",
    "    for i in CartesianIndices(f)\n",
    "        if (i[current_cohort] > 1 && i[current_cohort] <= N_1)\n",
    "            i_previous = i - e_1\n",
    "            i_forward = i + e_1\n",
    "            df[i] = θ*((N+2-i[current_cohort])/N)*f[i_previous] - \n",
    "                    (μ+θ*((N+1-i[current_cohort])/N))*f[i] + \n",
    "                    μ*f[i_forward]\n",
    "        end\n",
    "    end\n",
    "    df[2] = (θ + θ_d*(1-f0(t)))*f[1] - (μ+θ*((N-1)/N))*f[2] + μ*f[3]\n",
    "    df[end] = (θ/N)*f[N] - μ*f[N+1]\n",
    "\n",
    "    f = reshape(f, (N_1+1,))   \n",
    "    df = reshape(df, (N_1+1,))\n",
    "end\n",
    "\n",
    "# solve krylov\n",
    "params = (μ = μ, θ = θ, θ_d = θ_d, f0 = f0, cohorts = (N, ))\n",
    "sol_count_krylov = solve_transition_dynamics(Q_a!, params, f_0, T; dt = 0.1)\n",
    "\n",
    "f0_count_krylov(a) = sol_count_krylov(a)[1]\n",
    "f1_count_krylov(a) = sol_count_krylov(a)[2]\n",
    "f2_count_krylov(a) = sol_count_krylov(a)[3]\n",
    "f_count_krylov(a) = dot(0:N, sol_count_krylov(a)) # average product awareness\n",
    "\n",
    "# plot\n",
    "plot(sol_count_krylov,linewidth=5,\n",
    "    title=\"Solution (using count transition, Krylov sol)\",\n",
    "     xaxis=\"t\",yaxis=\"f(t)\",label=[\"f0\" \"f1\" \"f2\"])"
   ]
  },
  {
   "cell_type": "code",
   "execution_count": null,
   "metadata": {},
   "outputs": [],
   "source": [
    "# without package\n",
    "function generate_operator() \n",
    "    Q_base = get_Q_base(N, μ, θ)'\n",
    "    function awareness_operator_basis(du,u,p,t)\n",
    "        Q_base[1,1] = -(θ + θ_d*(1-f0(t)))\n",
    "        Q_base[2,1] = θ + θ_d*(1-f0(t))\n",
    "        mul!(du, Q_base, u)\n",
    "    end\n",
    "    operator = MatrixFreeOperator(awareness_operator_basis, (1,1)) # extra argument p=(1,1) is dummy\n",
    "    return operator\n",
    "end\n",
    "\n",
    "# solve krylov\n",
    "operator = generate_operator() \n",
    "prob = ODEProblem(operator,f_0,(0.0,T))\n",
    "sol_count_krylov_without_package = solve(prob, HochOst4(krylov=true, m=2), dt=0.01)\n",
    "\n",
    "f0_count_krylov_without_package(a) = sol_count_krylov_without_package(a)[1]\n",
    "f1_count_krylov_without_package(a) = sol_count_krylov_without_package(a)[2]\n",
    "f2_count_krylov_without_package(a) = sol_count_krylov_without_package(a)[3]\n",
    "f_count_krylov_without_package(a) = dot(0:N, sol_count_krylov_without_package(a)) # average product awareness\n",
    "\n",
    "# plot\n",
    "plot(sol_count_krylov_without_package,linewidth=5,\n",
    "    title=\"Solution (using count transition, Krylov sol, without relying on package)\",\n",
    "     xaxis=\"t\",yaxis=\"f(t)\",label=[\"f0\" \"f1\" \"f2\"])"
   ]
  },
  {
   "cell_type": "code",
   "execution_count": null,
   "metadata": {},
   "outputs": [],
   "source": [
    "# check if they yield package-based solutions yield identical results with the ones without relying on solutions\n",
    "@test f0_count_krylov.(0:0.1:T) ≈ f0_count_krylov_without_package.(0:0.1:T) atol=1e-1\n",
    "@test f1_count_krylov.(0:0.1:T) ≈ f1_count_krylov_without_package.(0:0.1:T) atol=1e-1\n",
    "@test f2_count_krylov.(0:0.1:T) ≈ f2_count_krylov_without_package.(0:0.1:T) atol=1e-1\n",
    "@test f_count_krylov.(0:0.1:T) ≈ f_count_krylov_without_package.(0:0.1:T) atol=1e-1"
   ]
  },
  {
   "cell_type": "code",
   "execution_count": null,
   "metadata": {},
   "outputs": [],
   "source": [
    "# check if they yield CLOSE results with actual solutions\n",
    "@test f0_count.(0:0.1:T) ≈ f0_count_krylov.(0:0.1:T) atol=1e+1\n",
    "@test f1_count.(0:0.1:T) ≈ f1_count_krylov.(0:0.1:T) atol=1e+1\n",
    "@test f2_count.(0:0.1:T) ≈ f2_count_krylov.(0:0.1:T) atol=1e+1\n",
    "@test f_count.(0:0.1:T) ≈ f_count_krylov.(0:0.1:T) atol=1e+1"
   ]
  }
 ],
 "metadata": {
  "kernelspec": {
   "display_name": "Julia 1.0.0",
   "language": "julia",
   "name": "julia-1.0"
  },
  "language_info": {
   "file_extension": ".jl",
   "mimetype": "application/julia",
   "name": "julia",
   "version": "1.0.0"
  }
 },
 "nbformat": 4,
 "nbformat_minor": 2
}

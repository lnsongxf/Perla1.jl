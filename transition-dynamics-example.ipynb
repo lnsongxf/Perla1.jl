{
 "cells": [
  {
   "cell_type": "code",
   "execution_count": null,
   "metadata": {},
   "outputs": [],
   "source": [
    "using DifferentialEquations, Plots\n",
    "using Perla1"
   ]
  },
  {
   "cell_type": "code",
   "execution_count": null,
   "metadata": {},
   "outputs": [],
   "source": [
    "function solve_transition_dynamics(Q, f0)\n",
    "    df(f,p,a) = Q(a)' * f\n",
    "    prob = ODEProblem(df,f0,(0.0,1.0))\n",
    "    sol = solve(prob)\n",
    "end"
   ]
  },
  {
   "cell_type": "code",
   "execution_count": null,
   "metadata": {},
   "outputs": [],
   "source": [
    "# simple duopoly\n",
    "N = 2\n",
    "μ = 0.0\n",
    "θ = 0.5\n",
    "θ_d = 0.00\n",
    "\n",
    "# define generator\n",
    "Q_a = get_Q(N, μ, θ, θ_d)\n",
    "Q(a) = Q_a(0) # fix Q to be time invariant\n",
    "\n",
    "# solve the corresponding ODE\n",
    "f0 = [1.0; 0.0; 0.0]\n",
    "sol = solve_transition_dynamics(Q, f0)\n",
    "\n",
    "plot(sol,linewidth=5,title=\"Solution\",\n",
    "     xaxis=\"t\",yaxis=\"f(t)\",label=[\"f1\" \"f2\" \"f3\"])"
   ]
  }
 ],
 "metadata": {
  "kernelspec": {
   "display_name": "Julia 1.0.0",
   "language": "julia",
   "name": "julia-1.0"
  },
  "language_info": {
   "file_extension": ".jl",
   "mimetype": "application/julia",
   "name": "julia",
   "version": "1.0.0"
  }
 },
 "nbformat": 4,
 "nbformat_minor": 2
}
